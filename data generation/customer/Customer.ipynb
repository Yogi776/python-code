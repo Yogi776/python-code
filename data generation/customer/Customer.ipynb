{
 "cells": [
  {
   "cell_type": "code",
   "execution_count": 1,
   "id": "815fba47",
   "metadata": {},
   "outputs": [
    {
     "name": "stderr",
     "output_type": "stream",
     "text": [
      "100%|█████████████████████████████████████████████████████████████████████████| 50000/50000 [00:04<00:00, 11580.50it/s]\n"
     ]
    }
   ],
   "source": [
    "from mimesis.schema import Field, Schema\n",
    "from mimesis import Generic\n",
    "from mimesis.enums import Gender\n",
    "from collections import defaultdict\n",
    "import random\n",
    "import csv\n",
    "from datetime import date as pydate\n",
    "from tqdm import tqdm\n",
    "\n",
    "# Please change following variables as per requirement\n",
    "no_of_customers = 50000 # This number should be used across other mock data scripts\n",
    "max_city_index = 50000 # cannot be more than 53375\n",
    "\n",
    "\n",
    "g = Generic('en')\n",
    "_ = Field('en')\n",
    "\n",
    "def calculate_age(d):\n",
    "    y = pydate.today()\n",
    "    age = round(abs((y-d).days/365))\n",
    "    return age\n",
    "\n",
    "genderList = ['MALE','FEMALE','OTHER']\n",
    "genderDist = [30,50,20]\n",
    "\n",
    "with open('customers_profile.csv', 'w', newline='') as csvfile:\n",
    "    fieldnames = ['customer_index','Id', 'salutation', 'first_name', 'last_name', 'gender', 'phone_number', 'email_id', 'birthdate', 'age','education_level','marital_status','number_of_children','occupation','annual_income','employment_status','hobbies','home_ownership','degree_of_loyalty','benefits_sought','personality','user_status','social_class','lifestyle','city_id','mailing_street']\n",
    "    writer = csv.DictWriter(csvfile, fieldnames=fieldnames)\n",
    "    writer.writeheader()\n",
    "\n",
    "    for i in tqdm(range(no_of_customers)):\n",
    "        profile = {}\n",
    "        profile['customer_index'] = i+1\n",
    "        profile['Id'] = g.cryptographic.uuid()\n",
    "        randomGender = random.choices(genderList,genderDist,k=1)[0]\n",
    "        if randomGender == 'MALE':\n",
    "            profile['first_name'] = g.person.first_name(gender=Gender.MALE)\n",
    "            profile['last_name'] = g.person.last_name(gender=Gender.MALE)\n",
    "            profile['salutation'] = g.person.title(gender=Gender.MALE)\n",
    "            profile['gender'] = 'MALE'\n",
    "        elif randomGender == 'FEMALE':\n",
    "            profile['first_name'] = g.person.first_name(gender=Gender.FEMALE)\n",
    "            profile['last_name'] = g.person.last_name(gender=Gender.FEMALE)\n",
    "            profile['salutation'] = g.person.title(gender=Gender.FEMALE)\n",
    "            profile['gender'] = 'FEMALE'\n",
    "        else:\n",
    "            profile['first_name'] = g.person.first_name()\n",
    "            profile['last_name'] = g.person.last_name()\n",
    "            profile['salutation'] = g.person.title()\n",
    "            profile['gender'] = 'OTHER'\n",
    "        profile['phone_number'] = str(g.person.telephone())\n",
    "        profile['email_id'] = g.person.email()\n",
    "        profile['birthdate'] = g.datetime.date(start=1960, end=2000)\n",
    "        profile['age'] = calculate_age(profile['birthdate'])\n",
    "        profile['education_level'] = random.choice([\"No High School Diploma\",\"High School Diploma\",\"Associate's Degree\",\"Bachelor's Degree\",\"Graduate Degree\",\"Postgraduate Degree\"])\n",
    "        profile['marital_status'] = random.choice([\"Divorced\",\"Domestic Partner\",\"Married\",\"Other\",\"Separated\",\"Single\",\"Unknown\",\"Widowed\"])\n",
    "        profile['number_of_children'] = random.randint(0,5)\n",
    "        profile['occupation'] = g.person.occupation()\n",
    "        profile['annual_income'] = random.choice(['<$15k','$15k-$25k','$25k-$35k','$35k-$50k','$50k-$75k','$75k-$100k','$100k-$150k','$150k-$200k','>$200k'])\n",
    "        profile['employment_status'] = random.choice(['Seeking Employment','Temporarily Employed','Employed Part-Time','Self-Employed','Employed Full-Time','Pursuing Further Studies'])\n",
    "        profile['hobbies'] = random.choice(['Blogging','Baking','Photography','Painting','Writing','Dance','Gardening','Excercise','Cooking','Hiking','Hunting','Origami','Singing','Cycling','Juggling','Scuba Diving','Poker','Handicraft'])\n",
    "        profile['home_ownership'] = random.choice(['own','rent'])\n",
    "        profile['degree_of_loyalty'] = random.choice(['Hard Core Loyals','Soft Core Loyals','Switchers'])\n",
    "        profile['benefits_sought'] = random.choice(['Cost Advantage','Functionality','Healthy Lifestyle','Self-Expression'])\n",
    "        profile['personality'] = random.choice(['Easygoing','Determined and Ambitious'])\n",
    "        profile['user_status'] = random.choice(['Regular Users','Ex-Users','Non-Users','Potential Users','First-Time Users'])\n",
    "        profile['social_class'] = random.choice(['Lower Class','Working Class','Middle Class','Upper Class'])\n",
    "        profile['lifestyle'] = random.choice(['Struggler','Aspirer','Explorer','Succeeder','Reformer'])\n",
    "        profile['mailing_street'] = str(g.address.address())\n",
    "        profile['city_id'] = 'CITY' + str(random.randint(1,max_city_index))\n",
    "\n",
    "\n",
    "        writer.writerow({'customer_index':profile['customer_index'], 'Id':profile['Id'], 'salutation':profile['salutation'], 'first_name':profile['first_name'], 'last_name':profile['last_name'], 'gender':profile['gender'], 'phone_number':profile['phone_number'], 'email_id':profile['email_id'], 'birthdate':profile['birthdate'], 'age':profile['age'], 'education_level':profile['education_level'], 'marital_status':profile['marital_status'], 'number_of_children':profile['number_of_children'], 'occupation':profile['occupation'], 'annual_income':profile['annual_income'], 'employment_status':profile['employment_status'], 'hobbies':profile['hobbies'], 'home_ownership':profile['home_ownership'], 'degree_of_loyalty':profile['degree_of_loyalty'], 'benefits_sought':profile['benefits_sought'], 'personality':profile['personality'], 'user_status':profile['user_status'], 'social_class':profile['social_class'], 'lifestyle':profile['lifestyle'], 'city_id':profile['city_id'], 'mailing_street':profile['mailing_street']})\n",
    "\n",
    "csvfile.close()\n"
   ]
  },
  {
   "cell_type": "code",
   "execution_count": null,
   "id": "54d182c2",
   "metadata": {},
   "outputs": [],
   "source": []
  }
 ],
 "metadata": {
  "kernelspec": {
   "display_name": "Python 3",
   "language": "python",
   "name": "python3"
  },
  "language_info": {
   "codemirror_mode": {
    "name": "ipython",
    "version": 3
   },
   "file_extension": ".py",
   "mimetype": "text/x-python",
   "name": "python",
   "nbconvert_exporter": "python",
   "pygments_lexer": "ipython3",
   "version": "3.8.8"
  }
 },
 "nbformat": 4,
 "nbformat_minor": 5
}
