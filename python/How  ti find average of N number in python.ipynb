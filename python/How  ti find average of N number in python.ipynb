{
 "cells": [
  {
   "cell_type": "code",
   "execution_count": 1,
   "metadata": {},
   "outputs": [
    {
     "name": "stdout",
     "output_type": "stream",
     "text": [
      "How many number ? 5\n",
      "Enter any number : 1\n",
      "Enter any number : 2\n",
      "Enter any number : 3\n",
      "Enter any number : 4\n",
      "Enter any number : 5\n",
      "Average is : 3.0\n"
     ]
    }
   ],
   "source": [
    "num = int(input(\"How many number ? \"))\n",
    "total_sum = 0\n",
    "for n in range(num):\n",
    "    numbers = float(input(\"Enter any number : \"))\n",
    "    total_sum += numbers\n",
    "\n",
    "avg = total_sum/num\n",
    "print(\"Average is :\",avg)\n"
   ]
  },
  {
   "cell_type": "code",
   "execution_count": null,
   "metadata": {},
   "outputs": [],
   "source": []
  }
 ],
 "metadata": {
  "kernelspec": {
   "display_name": "Python 3 (ipykernel)",
   "language": "python",
   "name": "python3"
  },
  "language_info": {
   "codemirror_mode": {
    "name": "ipython",
    "version": 3
   },
   "file_extension": ".py",
   "mimetype": "text/x-python",
   "name": "python",
   "nbconvert_exporter": "python",
   "pygments_lexer": "ipython3",
   "version": "3.7.6"
  }
 },
 "nbformat": 4,
 "nbformat_minor": 4
}
